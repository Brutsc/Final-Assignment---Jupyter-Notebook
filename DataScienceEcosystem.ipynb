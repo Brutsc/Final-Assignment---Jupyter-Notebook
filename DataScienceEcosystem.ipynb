{
 "cells": [
  {
   "cell_type": "markdown",
   "id": "b64097a1-225e-4452-9a38-2c940eaac6a5",
   "metadata": {},
   "source": [
    "# Data Science Tools and Ecosystem"
   ]
  },
  {
   "cell_type": "markdown",
   "id": "7e3e9b72-a532-420c-85e2-71454425fca7",
   "metadata": {},
   "source": [
    "In this notebook, Data Science Tools and Ecosystem are summarized."
   ]
  },
  {
   "cell_type": "markdown",
   "id": "aabbdd9f-65f5-4867-804b-0279353d2295",
   "metadata": {},
   "source": [
    "**Objectives:**\n",
    "- List popular languages for Data Science\n",
    "- List some of the commonly used libraries used by Data Scientists\n",
    "- List some Data Science Tools\n",
    "- Give some examples of evaluating arithmetic expressions in Python"
   ]
  },
  {
   "cell_type": "markdown",
   "id": "8a9db018-f709-489a-b8fb-8db6d05c76b8",
   "metadata": {},
   "source": [
    "Some of the popular languages that Data Scientists use are:\n",
    "1. Python\n",
    "2. R\n",
    "3. SQL\n",
    "4. Java"
   ]
  },
  {
   "cell_type": "markdown",
   "id": "0337f59a-4b70-4fd4-82dc-9994666058a7",
   "metadata": {},
   "source": [
    "Some of the commonly used libraries used by Data Scientists include:\n",
    "1. TensorFlow\n",
    "2. NumPy\n",
    "3. SciPy\n",
    "4. Pandas"
   ]
  },
  {
   "cell_type": "markdown",
   "id": "bb696228-b8ac-4a0c-83f9-54aa7fb91670",
   "metadata": {},
   "source": [
    "| Data Science Tools |\n",
    "| ------------------ |\n",
    "| 1. RStudio |\n",
    "| 2. Apache Spark |\n",
    "| 3. Apache Hadoop |"
   ]
  },
  {
   "cell_type": "markdown",
   "id": "51bda7dc-7335-421f-a16c-172076efa9e9",
   "metadata": {},
   "source": [
    "### Below are a few examples of Some of the commonly used libraries used by Data Scientists\n"
   ]
  },
  {
   "cell_type": "code",
   "execution_count": 1,
   "id": "42a449d2-4f79-4132-9e9a-2b0e936a4e28",
   "metadata": {
    "tags": []
   },
   "outputs": [
    {
     "data": {
      "text/plain": [
       "17"
      ]
     },
     "execution_count": 1,
     "metadata": {},
     "output_type": "execute_result"
    }
   ],
   "source": [
    "# This a simple arithmetic expression to mutiply then add integers\n",
    "(3*4)+5"
   ]
  },
  {
   "cell_type": "code",
   "execution_count": 2,
   "id": "40e3bda6-b16b-424e-9477-01a951e84936",
   "metadata": {
    "tags": []
   },
   "outputs": [
    {
     "data": {
      "text/plain": [
       "3.3333333333333335"
      ]
     },
     "execution_count": 2,
     "metadata": {},
     "output_type": "execute_result"
    }
   ],
   "source": [
    "# This will convert 200 minutes to hours by diving by 60\n",
    "200/60"
   ]
  },
  {
   "cell_type": "markdown",
   "id": "ed811607-998d-4628-bcfc-6983333a2eff",
   "metadata": {},
   "source": [
    "## Author\n",
    "Bruna Tosco\n"
   ]
  },
  {
   "cell_type": "code",
   "execution_count": null,
   "id": "b9e373eb-9e8b-43e5-8c15-ff0588c9118a",
   "metadata": {},
   "outputs": [],
   "source": []
  }
 ],
 "metadata": {
  "kernelspec": {
   "display_name": "Python",
   "language": "python",
   "name": "conda-env-python-py"
  },
  "language_info": {
   "codemirror_mode": {
    "name": "ipython",
    "version": 3
   },
   "file_extension": ".py",
   "mimetype": "text/x-python",
   "name": "python",
   "nbconvert_exporter": "python",
   "pygments_lexer": "ipython3",
   "version": "3.7.12"
  }
 },
 "nbformat": 4,
 "nbformat_minor": 5
}
